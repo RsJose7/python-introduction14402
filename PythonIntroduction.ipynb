{
  "nbformat": 4,
  "nbformat_minor": 0,
  "metadata": {
    "colab": {
      "provenance": [],
      "authorship_tag": "ABX9TyNPlJ5BzGD0t9BZRLJYg/hA",
      "include_colab_link": true
    },
    "kernelspec": {
      "name": "python3",
      "display_name": "Python 3"
    },
    "language_info": {
      "name": "python"
    }
  },
  "cells": [
    {
      "cell_type": "markdown",
      "metadata": {
        "id": "view-in-github",
        "colab_type": "text"
      },
      "source": [
        "<a href=\"https://colab.research.google.com/github/RsJose7/python-introduction14402/blob/main/PythonIntroduction.ipynb\" target=\"_parent\"><img src=\"https://colab.research.google.com/assets/colab-badge.svg\" alt=\"Open In Colab\"/></a>"
      ]
    },
    {
      "cell_type": "markdown",
      "source": [
        "# Mis Apuntes de Python\n",
        "### Fundamentos de Programación 202420\n",
        "**Nombre:** Jose Ricardo\n",
        "\n",
        "__email:__ jose.ricardos@upb.edu.co\n",
        "\n",
        "*Fecha de creación: * 20 de agosto, 2024\n",
        "\n",
        "_Excelsius!_"
      ],
      "metadata": {
        "id": "oNu7bpZ2rgj7"
      }
    },
    {
      "cell_type": "code",
      "execution_count": 13,
      "metadata": {
        "colab": {
          "base_uri": "https://localhost:8080/"
        },
        "id": "V3HvaVQto2iv",
        "outputId": "e9cb3dc5-b3f2-42df-f470-7efafc94c85d"
      },
      "outputs": [
        {
          "output_type": "stream",
          "name": "stdout",
          "text": [
            "Hi world...\n",
            "Hi, mi name is Jose , i have 18 years old and im from Montería\n",
            "12.5\n",
            "<class 'int'>\n",
            "<class 'float'>\n",
            "<class 'float'>\n"
          ]
        }
      ],
      "source": [
        "# Mis primeros pasos con Python\n",
        "print(\"Hi world...\")\n",
        "\n",
        "name = \"Jose\"\n",
        "age = 18\n",
        "city = \"Montería\"\n",
        "print(\"Hi, mi name is\", name, \", i have\", age, \"years old and im from\", city)\n",
        "\n",
        "# Números\n",
        "a = 10\n",
        "b = 2.5\n",
        "c = a + b\n",
        "print(c)\n",
        "\n",
        "# Tipos de datos\n",
        "print(type(a))\n",
        "print(type(b))\n",
        "print(type(c))"
      ]
    },
    {
      "cell_type": "code",
      "source": [
        "# Operaciones Matemáticas Básicas\n",
        "\n",
        "print(3 + 2) # Suma\n",
        "print(3 - 2) # Resta\n",
        "print(3 * 2) # Multiplicación\n",
        "print(3 / 2) # División\n",
        "print(3 % 2) # Módulo\n",
        "print(3 ** 2) # Potencia\n",
        "print(3 // 2) # División entero"
      ],
      "metadata": {
        "colab": {
          "base_uri": "https://localhost:8080/"
        },
        "id": "SyEk7wJ4zSyD",
        "outputId": "a34cd66d-9ebf-452b-a5fa-bf93285e5f8e"
      },
      "execution_count": 14,
      "outputs": [
        {
          "output_type": "stream",
          "name": "stdout",
          "text": [
            "5\n",
            "1\n",
            "6\n",
            "1.5\n",
            "1\n",
            "9\n",
            "1\n"
          ]
        }
      ]
    },
    {
      "cell_type": "code",
      "source": [
        "# Concatenación\n",
        "\n",
        "name = \"Jose\"\n",
        "lastname = \"Ricardo\"\n",
        "fullname = name + \" \" + lastname\n",
        "print(\"_\" * 20)\n",
        "print(fullname)\n",
        "# print((fullname + \" \") * 7)\n",
        "print(\"_\" * 20)\n"
      ],
      "metadata": {
        "colab": {
          "base_uri": "https://localhost:8080/"
        },
        "id": "vJz1XqrN1TQ0",
        "outputId": "510b327c-9e2a-4129-ce60-6f3121fb6b2c"
      },
      "execution_count": 19,
      "outputs": [
        {
          "output_type": "stream",
          "name": "stdout",
          "text": [
            "____________________\n",
            "Jose Ricardo\n",
            "____________________\n"
          ]
        }
      ]
    },
    {
      "cell_type": "code",
      "source": [
        "# Incremento\n",
        "\n",
        "a = 7\n",
        "print(\"a =\", a)\n",
        "b = 10\n",
        "a += b\n",
        "print(\"a =\", a)\n",
        "a -= b\n",
        "print(\"a =\", a)\n",
        "a *= b\n",
        "print(\"a =\", a)\n",
        "a /= b\n",
        "print(\"a =\", a)"
      ],
      "metadata": {
        "colab": {
          "base_uri": "https://localhost:8080/"
        },
        "id": "cixhH-Nj3L1Y",
        "outputId": "5e54384b-8e90-44af-e0e1-ce327017682b"
      },
      "execution_count": 20,
      "outputs": [
        {
          "output_type": "stream",
          "name": "stdout",
          "text": [
            "a = 7\n",
            "a = 17\n",
            "a = 7\n",
            "a = 70\n",
            "a = 7.0\n"
          ]
        }
      ]
    },
    {
      "cell_type": "code",
      "source": [
        "# Multi-line\n",
        "song = \"\"\"\n",
        "Navidad quisiera encontrarlos de nuevo\n",
        "Navidad será que se han ido hacia el cielo\n",
        "Dónde están, quisiera abrazar a mis viejos\n",
        "Y siento miedo\n",
        "Pues los amigos que tanto quiero\n",
        "Este año no han llegado a mi pueblo\n",
        "Para cantar esos versos viejos\n",
        "\"\"\"\n",
        "print(song)"
      ],
      "metadata": {
        "colab": {
          "base_uri": "https://localhost:8080/"
        },
        "id": "WpvsnAbS4lSN",
        "outputId": "3944f62f-82b2-4189-9f4c-7427d4786284"
      },
      "execution_count": 21,
      "outputs": [
        {
          "output_type": "stream",
          "name": "stdout",
          "text": [
            "\n",
            "Navidad quisiera encontrarlos de nuevo\n",
            "Navidad será que se han ido hacia el cielo\n",
            "Dónde están, quisiera abrazar a mis viejos\n",
            "Y siento miedo\n",
            "Pues los amigos que tanto quiero\n",
            "Este año no han llegado a mi pueblo\n",
            "Para cantar esos versos viejos\n",
            "\n"
          ]
        }
      ]
    },
    {
      "cell_type": "code",
      "source": [],
      "metadata": {
        "id": "XKYdV65w5rx8"
      },
      "execution_count": null,
      "outputs": []
    }
  ]
}